{
 "cells": [
  {
   "cell_type": "markdown",
   "id": "cognitive-window",
   "metadata": {},
   "source": [
    "# Catalog ICRS to observed (detailed)\n",
    "\n",
    "In this example we will show step by step calculations to convert ICRS catalog coordinates of a star to its observed coordinates. We follow the steps shown by *Patrick Wallace* in this [PDF file](https://syrte.obspm.fr/iau/iauWGnfa/ExPW04.pdf).\n",
    "\n",
    "The observation site is located at 9◦.712156 E, 52◦.385639 N, 200m above sea level. The time of observation is UTC 2003/08/26 00:37:38.973810.\n",
    "\n",
    "The target of observation is a fictitious Tycho 2 star, epoch 2000:\n",
    "- [ α, δ ] = 353◦.22987757, +52◦.27730247\n",
    "- Proper motions: μα cos δ = +22.9mas/year, μδ = −2.1mas/year\n",
    "- Parallax 23mas\n",
    "- Radial velocity +25 km/s\n",
    "\n",
    "The Earth orientation parameters (from IERS):\n",
    "- DUT1: −0.349535 s\n",
    "- δX, δY corrections: +0.038, −0.118 (mas)\n",
    "- polar motion xp, yp = 0.259371, 0.415573 (arcsec)\n",
    "\n",
    "Let's begin by importing libraries\n"
   ]
  },
  {
   "cell_type": "code",
   "execution_count": 1,
   "id": "09b4098c",
   "metadata": {},
   "outputs": [],
   "source": [
    "import erfa\n",
    "from iers import EOP\n",
    "import numpy as np"
   ]
  },
  {
   "cell_type": "markdown",
   "id": "spare-globe",
   "metadata": {},
   "source": [
    "## Step 1: prepare\n",
    "\n",
    "In the first step, we should assigning the given data to variables. The star data are: ICRS coordinates, proper motion, parallax and radial velocity. You have to pay attetion to units. \n",
    "\n",
    "The Right Ascension (RA) and Declination (DEC) are usually expressed in *degrees* in astronomical catalogues, but, when using in SOFA functions, as `rc` and `dc`, we should convert them to *radians*. We can do this by multiplying by `DD2R`.\n",
    "\n",
    "The unit used for pmRA (RA component of proper motion) and pmDEC (DEC component of proper motion) in many catalogues is *milliarcsec/year*, but in SOFA functions we should convert them to *radians/year*. We can convert *milliarcsec/year* to *radians/year* by multiplying by `DMAS2R`. There's something else you should be aware. The values indicated as \"pmRA\" in many catalogues, such as Hipparcos, are in fact pmRA multiplied by cosine of DEC. These values are NOT time derivatives of RA. In SOFA functions, `pr` and `pd` are pmRA and pmDEC in *radians/year*. To prepare `pr`, the cosine of DEC should be removed as follows:\n",
    "\n",
    "`pr = np.arctan2(pmRA * erfa.DMAS2R, np.cos(dc))`\n",
    "\n",
    "Parallax in many catalogues is expressed as *milliarcsec*, but if SOFA, `px`  should be in *arcsec*. The unit of radial velocity is *km/s* and it is indicated with `rv`."
   ]
  },
  {
   "cell_type": "code",
   "execution_count": 2,
   "id": "enhanced-explanation",
   "metadata": {},
   "outputs": [],
   "source": [
    "# Star data\n",
    "rc = 353.22987757 * erfa.DD2R\n",
    "dc = 52.27730247  * erfa.DD2R\n",
    "pr = np.arctan2(22.9 * erfa.DMAS2R, np.cos(dc))\n",
    "pd = -2.1 * erfa.DMAS2R\n",
    "px = 23.0 * 0.001\n",
    "rv = 25.0"
   ]
  },
  {
   "cell_type": "markdown",
   "id": "c1795930",
   "metadata": {},
   "source": [
    "The time of observation is in UTC. We should convert it to Terrestrial Time (TT) because most of the SOFA functions need *TT scale*. The *time format* used by SOFA is *Julian Date*. To increase precision, SOFA uses two numbers to save time. This is called *2-part Julian Date* format. Sum of these two numbers gives the time in Julian Date. \n",
    "\n",
    "First, we should convert our UTC time to *2-part Julian Date* format, using `dtf2d` function. Then, we convert the results to *International Atomic Time (TAI)* scale, using `utctai` function. Finally, we use `taitt` function to convert TAI scale to TT scale."
   ]
  },
  {
   "cell_type": "code",
   "execution_count": 3,
   "id": "d160d4c1",
   "metadata": {},
   "outputs": [],
   "source": [
    "# Time of observation (convert UTC to TT)\n",
    "utc1, utc2 = erfa.dtf2d(\"UTC\", 2003, 8, 26, 0, 37, 38.973810)\n",
    "tai1, tai2 = erfa.utctai(utc1, utc2)\n",
    "tt1, tt2 = erfa.taitt(tai1, tai2)"
   ]
  },
  {
   "cell_type": "markdown",
   "id": "18164e04",
   "metadata": {},
   "source": [
    "To get Earth Orientation Parameters, we use `EOP` class from the `iers` python package. This class has the method `get_eop` that accepts a time in UTC and returns a dictionary containing parameters. You can enter time as *Julian Date*, *datetime*, or time string in ISO format. Since we have already the UTC time in JUlian Date, we use it as follows:"
   ]
  },
  {
   "cell_type": "code",
   "execution_count": 4,
   "id": "4bb9340e",
   "metadata": {},
   "outputs": [
    {
     "name": "stdout",
     "output_type": "stream",
     "text": [
      "{'px': 0.25937117787962316, 'py': 0.41557267392846753, 'ut1_utc': -0.34953485580035626, 'dx': 0.03767978379037231, 'dy': -0.11784986281348393}\n"
     ]
    }
   ],
   "source": [
    "eop = EOP().get_eop(utc1 + utc2)\n",
    "print(eop)"
   ]
  },
  {
   "cell_type": "markdown",
   "id": "7f097ccd",
   "metadata": {},
   "source": [
    "The unit of `px` and `py` is *arcsec*; the unit of `ut1_utc` is *seconds*; and finally, the unit of `dx` and `dy` is *milliarcsec*. Let's put them in variables and convert them to units that are required by SOFA."
   ]
  },
  {
   "cell_type": "code",
   "execution_count": 5,
   "id": "a9b861b5",
   "metadata": {},
   "outputs": [],
   "source": [
    "# Earth Orientation Parameters\n",
    "dut1 = eop['ut1_utc']\n",
    "xp = eop['px'] * erfa.DAS2R\n",
    "yp = eop['py'] * erfa.DAS2R\n",
    "dx = eop['dx'] * erfa.DMAS2R\n",
    "dy = eop['dy'] * erfa.DMAS2R"
   ]
  },
  {
   "cell_type": "markdown",
   "id": "demonstrated-shore",
   "metadata": {},
   "source": [
    "In the following steps, we want to print the results. Since the results are in cartesian and radians, let's create a very simple function to convert them to spherical and degrees and print them to the output as well as a text message."
   ]
  },
  {
   "cell_type": "code",
   "execution_count": 6,
   "id": "partial-guest",
   "metadata": {},
   "outputs": [],
   "source": [
    "def printSph(p, text):\n",
    "    w, d = erfa.c2s(p)\n",
    "    r = erfa.anp(w)\n",
    "    print(f\"{text}: {r*erfa.DR2D}, {d*erfa.DR2D}\")"
   ]
  },
  {
   "cell_type": "markdown",
   "id": "unlikely-dictionary",
   "metadata": {},
   "source": [
    "## Step 2: Position-velocites (PVs) of the Earth\n",
    "\n",
    "Before we start coordinates convertions, we need heliocentric and barycentric position-velocity vectors of the Earth. We can use the function `epv00` or get it from other resources (for example NASA JPL). The unit for the position vectors is *au* and the unit for the velocity vectors is *au / day*."
   ]
  },
  {
   "cell_type": "code",
   "execution_count": 7,
   "id": "250aab2d",
   "metadata": {},
   "outputs": [
    {
     "name": "stdout",
     "output_type": "stream",
     "text": [
      "Position of Earth (heliocentric): [ 0.89530671 -0.43036218 -0.18658314]\n",
      "Velocity of Earth (heliocentric): [0.00770924 0.01392773 0.00603814]\n",
      "Position of Earth (barycentric) : [ 0.8981304  -0.4336632  -0.18805818]\n",
      "Velocity of Earth (barycentric) : [0.00771448 0.01393305 0.00604026]\n"
     ]
    }
   ],
   "source": [
    "# Earth heliocentric and barycentric position-velocity vectors\n",
    "pvh, pvb = erfa.epv00(tt1, tt2)\n",
    "\n",
    "print('Position of Earth (heliocentric):', pvh[0])\n",
    "print('Velocity of Earth (heliocentric):', pvh[1])\n",
    "print('Position of Earth (barycentric) :', pvb[0])\n",
    "print('Velocity of Earth (barycentric) :', pvb[1])"
   ]
  },
  {
   "cell_type": "markdown",
   "id": "858d0157",
   "metadata": {},
   "source": [
    "Now that we have PV vectors of the Earth, we should caculate four factors that will be necessary later. \n",
    "\n",
    "1. First, we should calculate the distance from Sun to the observer. This is simply the magnitude of the heliocentric position vector of the Earth. In our code, we call it `em`. \n",
    "\n",
    "2. We also need the unit vector for the direction from the Sun to the observer. This is the heliocentric position vector divided by the `em` value. We call this new vector `eh`.\n",
    "\n",
    "3. We need the barycentric observer velocity. This is the barycentric velocity vector and we already have it, but we need it to be expressed in unit of speed of light. The value of the speed of light in *au / day* can be obtained from the constant `DC`. So, we divide the barycentric observer velocity by `DC`. We call the result `v`.\n",
    "\n",
    "4. We use `v` to calculate the reciprocal of Lorenz factor and we call it `bm1`."
   ]
  },
  {
   "cell_type": "code",
   "execution_count": 8,
   "id": "supported-notebook",
   "metadata": {},
   "outputs": [],
   "source": [
    "# distance from Sun to observer (au) & Sun to observer (unit vector)\n",
    "em = np.sum(pvh[0]**2) ** 0.5\n",
    "eh = pvh[0] / em\n",
    "\n",
    "# barycentric observer velocity (vector, c)\n",
    "v = pvb[1] / erfa.DC #Note: DC is Speed of light (au per day)\n",
    "\n",
    "# reciprocal of Lorenz factor\n",
    "bm1 = np.sqrt(1 - np.sum(v**2))"
   ]
  },
  {
   "cell_type": "markdown",
   "id": "opposed-cooperative",
   "metadata": {},
   "source": [
    "## Step 3: BCRS coordinates\n",
    "\n",
    "Until here, we had nothing to do with the coordinates of the star. Now we start by applying proper motion and parallax to the catalog coordinates of the star, using pmpx. Note that this function take the time as julian years.\n",
    "\n",
    "We need to find the proper motion time interval and convert it to Julian years.\n",
    "\n",
    "The reference epoch (J2000.0) expressed as Julian Date is 2451545.0, so, we subtract it from the observation time and divide the results by 365.25. Note that there are ecactly 365.25 days in a Julian Year. Hence, `pmt` is the number of Julian years since J2000."
   ]
  },
  {
   "cell_type": "code",
   "execution_count": 9,
   "id": "arranged-integral",
   "metadata": {},
   "outputs": [
    {
     "name": "stdout",
     "output_type": "stream",
     "text": [
      "Astrometric (BCRS): 353.2299188909816, 52.27730584234127\n"
     ]
    }
   ],
   "source": [
    "# PM time interval (Julian years)\n",
    "pmt = ((tt1 - 2451545.0) + tt2) / 365.25\n",
    "\n",
    "# Proper motion and parallax, giving BCRS coordinate direction\n",
    "pco = erfa.pmpx(rc, dc, pr, pd, px, rv, pmt, pvb[0])\n",
    "\n",
    "printSph(pco, \"Astrometric (BCRS)\")"
   ]
  },
  {
   "cell_type": "markdown",
   "id": "demanding-proposition",
   "metadata": {},
   "source": [
    "We apply the light deflection by the Sun, using `ldsun`."
   ]
  },
  {
   "cell_type": "code",
   "execution_count": 10,
   "id": "indonesian-mauritius",
   "metadata": {},
   "outputs": [
    {
     "name": "stdout",
     "output_type": "stream",
     "text": [
      "With light deflection (BCRS): 353.22991848170153, 52.277305175083455\n"
     ]
    }
   ],
   "source": [
    "# Light deflection by the Sun, giving BCRS natural direction\n",
    "pnat = erfa.ldsun(pco, eh, em)\n",
    "printSph(pnat, \"With light deflection (BCRS)\")"
   ]
  },
  {
   "cell_type": "markdown",
   "id": "regional-cosmetic",
   "metadata": {},
   "source": [
    "## Step 4: GCRS coordinates\n",
    "\n",
    "Applying the aberration, using ab, gives us the GCRS coordinates of the star."
   ]
  },
  {
   "cell_type": "code",
   "execution_count": 11,
   "id": "flying-framing",
   "metadata": {},
   "outputs": [
    {
     "name": "stdout",
     "output_type": "stream",
     "text": [
      "Abberation (GCRS): 353.23789320692833, 52.276952625332505\n"
     ]
    }
   ],
   "source": [
    "# Aberration, giving GCRS proper direction\n",
    "ppr = erfa.ab(pnat, v, em, bm1)\n",
    "printSph(ppr, \"Abberation (GCRS)\")"
   ]
  },
  {
   "cell_type": "markdown",
   "id": "varied-chemical",
   "metadata": {},
   "source": [
    "## Step 5: CIRS coordinates\n",
    "\n",
    "To cenvert GCRS to CIRS, we need *Bias-Precession-Nutation (BPN)* matrix. We can get this matrix by calling `pnm06a(tt1, tt2)`. But, here we want more control over the calculations: we want to apply IERS corrections (`dx` and `dy`). So, after getting the intial *BPN*, we get the CIP coordinates from this matrix by calling `bpn2xy`. Then, we apply the corrections (adding `dx` and `dy` to `x` and `y`). Now that we have the exact coordinates of the CIP (`x` and `y`), we can get the CIO locator `s` by calling the function `s06`. By passing `x`, `y` and `s` to `c2ixys` we get more precise *BPN* matrix."
   ]
  },
  {
   "cell_type": "code",
   "execution_count": 12,
   "id": "insured-burlington",
   "metadata": {},
   "outputs": [
    {
     "name": "stdout",
     "output_type": "stream",
     "text": [
      "[[ 9.99999946e-01  9.55322624e-09 -3.29956841e-04]\n",
      " [-1.85693025e-08  1.00000000e+00 -2.73250137e-05]\n",
      " [ 3.29956841e-04  2.73250183e-05  9.99999945e-01]]\n"
     ]
    }
   ],
   "source": [
    "#r = erfa.pnm06a(tt1, tt2)\n",
    "#x, y = erfa.bpn2xy(r)\n",
    "x, y = erfa.xy06(tt1, tt2)\n",
    "\n",
    "x += dx # Apply IERS corrections\n",
    "y += dy # Apply IERS corrections\n",
    "s = erfa.s06(tt1, tt2, x, y)\n",
    "\n",
    "# More precise BPN matrix\n",
    "bpn = erfa.c2ixys(x, y, s)\n",
    "\n",
    "print(bpn)"
   ]
  },
  {
   "cell_type": "markdown",
   "id": "powered-order",
   "metadata": {},
   "source": [
    "Now that we have the GCRS coordinates of the star, we can multiply the *BPN* matrix to it in order to get CIRS coordinates of the star."
   ]
  },
  {
   "cell_type": "code",
   "execution_count": 13,
   "id": "faced-bible",
   "metadata": {},
   "outputs": [
    {
     "name": "stdout",
     "output_type": "stream",
     "text": [
      "CIRS: 353.2330020893926, 52.29554174098014\n"
     ]
    }
   ],
   "source": [
    "# Bias-precession-nutation, giving CIRS proper direction\n",
    "pi = erfa.rxp(bpn, ppr)\n",
    "printSph(pi, \"CIRS\")\n",
    "\n",
    "# CIRS RA,Dec\n",
    "w, di = erfa.c2s(pi)\n",
    "ri = erfa.anp(w)"
   ]
  },
  {
   "cell_type": "markdown",
   "id": "advised-yemen",
   "metadata": {},
   "source": [
    "## Step 6: Observed coordinates\n",
    "\n",
    "We have now the CIRS coordinates of the star (`ri`, `di`). The remaining part can be achieved by calling a single function `atio13`, which converts CIRS to observed. If your provide the atmospheric condition of the obseving site (applying refraction) you will get the observed coordinates. Thses variables are ambient pressure (`phpa`), temperature (`tc`), relative humidity (`rh`) and wavelength (`wl`). If you don't provide them by passing zero, you will get the topocentric coordinates. We will try both."
   ]
  },
  {
   "cell_type": "code",
   "execution_count": 14,
   "id": "fancy-might",
   "metadata": {},
   "outputs": [
    {
     "name": "stdout",
     "output_type": "stream",
     "text": [
      "Topocentric: -0.29507962859885295, 52.29549062781548\n",
      "Topocentric: 116.44983895116414, 89.79843387509257\n",
      "Observed   : 116.44983895116414, 89.79848799947808\n"
     ]
    }
   ],
   "source": [
    "elong = 9.712156 * erfa.DD2R\n",
    "phi = 52.385639  * erfa.DD2R\n",
    "hm = 200.0\n",
    "phpa = 1000.0 #Ambient pressure (HPa)\n",
    "tc = 20.0     #Temperature (C)\n",
    "rh = 0.70     #Relative humidity (frac)\n",
    "wl = 0.55     #wavelength  (microns)\n",
    "\n",
    "# CIRS to topocentric\n",
    "(aot, zot, hot, dot, rot) = erfa.atio13(\n",
    "    ri, di, utc1, utc2, dut1,\n",
    "    elong, phi, hm, xp, yp,\n",
    "    0.0, 0.0, 0.0, 0.0\n",
    ")\n",
    "print(f\"Topocentric: {hot*erfa.DR2D}, {dot*erfa.DR2D}\")\n",
    "print(f\"Topocentric: {aot*erfa.DR2D}, {90-zot*erfa.DR2D}\")\n",
    "\n",
    "# CIRS to observed\n",
    "(aob, zob, hob, dob, rob) = erfa.atio13(\n",
    "    ri, di, utc1, utc2, dut1,\n",
    "    elong, phi, hm, xp, yp,\n",
    "    phpa, tc, rh, wl\n",
    ")\n",
    "print(f\"Observed   : {aob*erfa.DR2D}, {90-zob*erfa.DR2D}\")"
   ]
  },
  {
   "cell_type": "code",
   "execution_count": null,
   "id": "c68ece6d",
   "metadata": {},
   "outputs": [],
   "source": []
  }
 ],
 "metadata": {
  "kernelspec": {
   "display_name": "Python 3 (ipykernel)",
   "language": "python",
   "name": "python3"
  },
  "language_info": {
   "codemirror_mode": {
    "name": "ipython",
    "version": 3
   },
   "file_extension": ".py",
   "mimetype": "text/x-python",
   "name": "python",
   "nbconvert_exporter": "python",
   "pygments_lexer": "ipython3",
   "version": "3.9.7"
  }
 },
 "nbformat": 4,
 "nbformat_minor": 5
}
