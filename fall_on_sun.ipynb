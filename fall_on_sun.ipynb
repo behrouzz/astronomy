{
 "cells": [
  {
   "cell_type": "markdown",
   "id": "dying-rotation",
   "metadata": {},
   "source": [
    "# Falling on the Sun\n",
    "\n",
    "Imgine a body at distance AU from the Sun which is at rest at t1 and at t2 hits the Sun.\n",
    "\n",
    "The initial velocity of the body is $v_{1}=0$ and with velocity $v_{2}$ it will hit the Sun. Find $v_{2}$.\n",
    "\n",
    "### Method 1: Conservation of Energy\n",
    "\n",
    "Gravitational potential energy:\n",
    "\n",
    "$$V = -\\dfrac{G M m}{r}$$\n",
    "\n",
    "Kinetic energy:\n",
    "\n",
    "$$K = \\dfrac{1}{2} m v^2$$\n",
    "\n",
    "According to the law of conservation of energy, sum of kinetic energy and potential energy should be constant. So:\n",
    "\n",
    "$$K_{1} + V_{1} = K_{2} + V_{2}$$\n",
    "\n",
    "$$ \\dfrac{1}{2} m v_{1}^2 + \\dfrac{-G M m}{r_{1}} = \\dfrac{1}{2} m v_{2}^2 + \\dfrac{-G M m}{r_{2}}$$\n",
    "\n",
    "$$ \\dfrac{1}{2} v_{1}^2 + \\dfrac{-G M}{r_{1}} = \\dfrac{1}{2} v_{2}^2 + \\dfrac{-G M}{r_{2}}$$\n",
    "\n",
    "$$ \\dfrac{1}{2} v_{2}^2 = \\dfrac{G M}{r_{2}} - \\dfrac{G M}{r_{1}}$$\n",
    "\n",
    "$$ v_{2}^2 = 2 G M (\\dfrac{1}{r_{2}} - \\dfrac{1}{r_{1}})$$\n",
    "\n",
    "$$ v_{2} = \\sqrt{ 2 G M (\\dfrac{1}{r_{2}} - \\dfrac{1}{r_{1}})}$$\n",
    "\n",
    "\n",
    "### Method 2: law of gravitaion\n",
    "\n",
    "We know that gravitational acceleration is:\n",
    "\n",
    "$$a = -\\dfrac{G M}{r^2}$$\n",
    "\n",
    "In the other hand, according to definition of *acceleration* and *velocity*, we can write:\n",
    "\n",
    "$$a = \\dfrac{dv}{dt} = \\dfrac{dv}{dt} \\dfrac{dr}{dr} = \\dfrac{dr}{dt} \\dfrac{dv}{dr} = v \\dfrac{dv}{dr}$$\n",
    "\n",
    "So:\n",
    "\n",
    "$$-\\dfrac{G M}{r^2} = v \\dfrac{dv}{dr}$$\n",
    "\n",
    "Multiplying both sides by $dr$ gives:\n",
    "\n",
    "$$-G M\\dfrac{dr}{r^2} = v \\: dv$$\n",
    "\n",
    "Now, we can integrate:\n",
    "\n",
    "$$-G M \\int_{r_{1}}^{r_{2}} \\dfrac{dr}{r^2} = \\int_{v_{1}}^{v_{2}} v \\: dv$$\n",
    "\n",
    "$$-G M (\\dfrac{-1}{r_{2}}-\\dfrac{-1}{r_{1}}) = \\dfrac{v_{2}^2}{2} - \\dfrac{v_{1}^2}{2}$$\n",
    "\n",
    "$$G M (\\dfrac{1}{r_{2}}-\\dfrac{1}{r_{1}}) = \\dfrac{v_{2}^2}{2}$$\n",
    "\n",
    "$$v_{2}^2 = 2 G M (\\dfrac{1}{r_{2}}-\\dfrac{1}{r_{1}})$$\n",
    "\n",
    "$$ v_{2} = \\sqrt{ 2 G M (\\dfrac{1}{r_{2}} - \\dfrac{1}{r_{1}})}$$\n",
    "\n",
    "You can see that the result is exactly as that of the first method.\n",
    "\n",
    "### The time it takes for the body to hit the sun\n",
    "\n",
    "According to the value we found for $v_{2}$, we can write the velocity at any given $r$ as:\n",
    "\n",
    "$$ v = \\sqrt{ 2 G M (\\dfrac{1}{r} - \\dfrac{1}{r_{1}})}$$\n",
    "\n",
    "We have:\n",
    "\n",
    "$$dt = \\dfrac{dr}{v}$$\n",
    "\n",
    "So:\n",
    "\n",
    "$$dt = \\dfrac{dr}{\\sqrt{ 2 G M (\\dfrac{1}{r} - \\dfrac{1}{r_{1}})}}$$\n",
    "\n",
    "Integrating from both sides gives $t$ :\n",
    "\n",
    "$$ t = \\int_{t_{1}}^{t_{2}} dt = \\int_{r_{1}}^{r_{2}} \\dfrac{dr}{\\sqrt{ 2 G M (\\dfrac{1}{r} - \\dfrac{1}{r_{1}})}}$$\n",
    "\n",
    "This is not a simple work to do. We use Sympy to calculate the integration. We will see that it takes about 64.5 days for the object to reach the Sun's surface."
   ]
  },
  {
   "cell_type": "code",
   "execution_count": 1,
   "id": "8f1b61ee",
   "metadata": {},
   "outputs": [
    {
     "name": "stdout",
     "output_type": "stream",
     "text": [
      "616236.7886010144 m / s\n"
     ]
    }
   ],
   "source": [
    "import astropy.units as u\n",
    "from astropy.constants import R_sun, M_sun, G, au\n",
    "import numpy as np\n",
    "\n",
    "M = M_sun\n",
    "r1 = au\n",
    "r2 = R_sun\n",
    "\n",
    "v2 = np.sqrt(2*G*M*(1/r2 - 1/r1))\n",
    "print(v2)"
   ]
  },
  {
   "cell_type": "code",
   "execution_count": 2,
   "id": "unlikely-bicycle",
   "metadata": {},
   "outputs": [
    {
     "name": "stdout",
     "output_type": "stream",
     "text": [
      "-64.56020370794847 d\n"
     ]
    }
   ],
   "source": [
    "from sympy import *\n",
    "\n",
    "r = symbols('r', real=True, positive=True)\n",
    "\n",
    "# define constants as scaler\n",
    "G = G.value\n",
    "M = M_sun.value\n",
    "r1 = au.value\n",
    "r2 = R_sun.value\n",
    "\n",
    "v = sqrt(2*G*M* ((1/r) - (1/r1)) )\n",
    "\n",
    "expr = 1 / v\n",
    "t = integrate(expr, (r, r1, r2)) *u.s\n",
    "\n",
    "print(t.to('d'))"
   ]
  },
  {
   "cell_type": "code",
   "execution_count": null,
   "id": "c4dc2e5d",
   "metadata": {},
   "outputs": [],
   "source": []
  }
 ],
 "metadata": {
  "kernelspec": {
   "display_name": "Python 3 (ipykernel)",
   "language": "python",
   "name": "python3"
  },
  "language_info": {
   "codemirror_mode": {
    "name": "ipython",
    "version": 3
   },
   "file_extension": ".py",
   "mimetype": "text/x-python",
   "name": "python",
   "nbconvert_exporter": "python",
   "pygments_lexer": "ipython3",
   "version": "3.9.7"
  }
 },
 "nbformat": 4,
 "nbformat_minor": 5
}
